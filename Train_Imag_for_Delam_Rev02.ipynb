{
 "cells": [
  {
   "cell_type": "code",
   "execution_count": 1,
   "metadata": {},
   "outputs": [],
   "source": [
    "#import extensions\n",
    "import tensorflow as tf\n",
    "import matplotlib.pyplot as plt\n",
    "import pandas as pd\n",
    "import numpy as np\n",
    "from sklearn.utils import shuffle\n",
    "from sklearn.model_selection import train_test_split\n",
    "from sklearn.model_selection import GridSearchCV\n",
    "from scikeras.wrappers import KerasClassifier\n",
    "import time as time\n",
    "\n"
   ]
  },
  {
   "cell_type": "code",
   "execution_count": 2,
   "metadata": {},
   "outputs": [
    {
     "name": "stderr",
     "output_type": "stream",
     "text": [
      "<>:4: SyntaxWarning: invalid escape sequence '\\F'\n",
      "<>:4: SyntaxWarning: invalid escape sequence '\\F'\n",
      "C:\\Users\\leonb\\AppData\\Local\\Temp\\ipykernel_13888\\2589247029.py:4: SyntaxWarning: invalid escape sequence '\\F'\n",
      "  DelamDataHighFailure = pd.read_csv('Z:\\\\HMS\\Fehlerdatenbasis\\\\EEC_Parameter_Programm\\\\Train_Data\\\\Failure_data_Delam_high_imag.csv')\n"
     ]
    }
   ],
   "source": [
    "#load Imag Data for delamination\n",
    "DelamDataNoFailure = pd.read_csv('Z:\\\\HMS\\\\Fehlerdatenbasis\\\\EEC_Parameter_Programm\\\\Train_Data\\\\Train_Imag_Data_Delamination.csv')\n",
    "DelamDataLowFailure = pd.read_csv('Z:\\\\HMS\\\\Fehlerdatenbasis\\\\EEC_Parameter_Programm\\\\Train_Data\\\\Failure_data_Delam_low_imag.csv')\n",
    "DelamDataHighFailure = pd.read_csv('Z:\\\\HMS\\Fehlerdatenbasis\\\\EEC_Parameter_Programm\\\\Train_Data\\\\Failure_data_Delam_high_imag.csv')\n",
    "\n",
    "#load Imag Data for reduction of membrane thickness\n",
    "RedThicknessDataNoFailure = pd.read_csv('Z:\\\\HMS\\\\Fehlerdatenbasis\\\\EEC_Parameter_Programm\\\\Train_Data\\\\Train_Imag_Data_RedThickness.csv')\n",
    "RedThicknessDataLowFailure = pd.read_csv('Z:\\\\HMS\\\\Fehlerdatenbasis\\\\EEC_Parameter_Programm\\\\Train_Data\\\\Failure_data_RedThickness_low_img.csv')\n",
    "RedThicknessDataHighFailure = pd.read_csv('Z:\\\\HMS\\\\Fehlerdatenbasis\\\\EEC_Parameter_Programm\\\\Train_Data\\\\Failure_data_RedThickness_high_imag.csv')\n",
    "\n",
    "#rint(DelamDataNoFailure)"
   ]
  },
  {
   "cell_type": "code",
   "execution_count": 3,
   "metadata": {},
   "outputs": [],
   "source": [
    "#add noise to imag data (and save it to csv file) \n",
    "#10 instances of each operating point (for each row)\n",
    "\n",
    "#define function to add noise to the data \n",
    "def add_noise(data, num_variations=10, noise_level=0.001):\n",
    "    noisy_data = []\n",
    "    for _, row in data.iterrows():  # \"_,\" is used to ignore the index of the row\n",
    "        for _ in range(num_variations):\n",
    "            # Create noise only for columns after the third column\n",
    "            noise = np.random.normal(0, noise_level, size=row.iloc[3:].shape)\n",
    "            noisy_row = row.copy()\n",
    "            noisy_row.iloc[3:] += noise  # Add noise only to columns 4 and beyond\n",
    "            noisy_data.append(noisy_row)\n",
    "    return pd.DataFrame(noisy_data, columns=data.columns)\n",
    "\n",
    "## add noise to the data\n",
    "#Delamination\n",
    "DelamDataNoFailure_noisy = add_noise(DelamDataNoFailure, num_variations=10, noise_level=0.001)\n",
    "DelamDataLowFailure_noisy = add_noise(DelamDataLowFailure, num_variations=10, noise_level=0.001) \n",
    "DelamDataHighFailure_noisy = add_noise(DelamDataHighFailure, num_variations=10, noise_level=0.001)   \n",
    "\n",
    "#RedThickness\n",
    "#RedThicknessDataNoFailure_noisy = add_noise(RedThicknessDataNoFailure, num_variations=10, noise_level=0.001)\n",
    "RedThicknessDataLowFailure_noisy = add_noise(RedThicknessDataLowFailure, num_variations=10, noise_level=0.001)\n",
    "RedThicknessDataHighFailure_noisy = add_noise(RedThicknessDataHighFailure, num_variations=10, noise_level=0.001)\n",
    "\n",
    "## mix noise data and non noise data randomly rowwise \n",
    "#Delamination    \n",
    "DelamDataNoFailure_combined = pd.concat([DelamDataNoFailure, DelamDataNoFailure_noisy], ignore_index=True)  \n",
    "DelamDataLowFailure_combined = pd.concat([DelamDataLowFailure, DelamDataLowFailure_noisy], ignore_index=True)\n",
    "DelamDataHighFailure_combined = pd.concat([DelamDataHighFailure, DelamDataHighFailure_noisy], ignore_index=True)\n",
    "\n",
    "#RedThickness\n",
    "#RedThicknessDataNoFailure_combined = pd.concat([RedThicknessDataNoFailure, RedThicknessDataNoFailure_noisy], ignore_index=True)\n",
    "RedThicknessDataLowFailure_combined = pd.concat([RedThicknessDataLowFailure, RedThicknessDataLowFailure_noisy], ignore_index=True)\n",
    "RedThicknessDataHighFailure_combined = pd.concat([RedThicknessDataHighFailure, RedThicknessDataHighFailure_noisy], ignore_index=True)\n",
    "\n",
    "\n",
    "##shuffle the data randomly\n",
    "#Delamination\n",
    "DelamDataNoFailure_shuffeled = shuffle(DelamDataNoFailure_combined, random_state=42) #shuffle the data randomly; random state to make shuffle reproducable\n",
    "DelamDataLowFailure_shuffeled = shuffle(DelamDataLowFailure_combined, random_state=42)\n",
    "DelamDataHighFailure_shuffeled = shuffle(DelamDataHighFailure_combined, random_state=42)\n",
    "\n",
    "##RedThickness\n",
    "#RedThicknessDataNoFailure_shuffeled = shuffle(RedThicknessDataNoFailure_combined, random_state=42)\n",
    "RedThicknessDataLowFailure_shuffeled = shuffle(RedThicknessDataLowFailure_combined, random_state=42)\n",
    "RedThicknessDataHighFailure_shuffeled = shuffle(RedThicknessDataHighFailure_combined, random_state=42)\n",
    "\n",
    "#save shuffeled data to csv file for examination\n",
    "#DelamDataNoFailure_shuffeled.to_csv('Z:\\\\HMS\\Fehlerdatenbasis\\\\EEC_Parameter_Programm\\\\Train_Data\\\\Train_Imag_Data_Delamination_shuffeled.csv', index=False)\n",
    "#DelamDataLowFailure_shuffeled.to_csv('Z:\\\\HMS\\Fehlerdatenbasis\\\\EEC_Parameter_Programm\\\\Train_Data\\\\Failure_data_Delam_low_imag_shuffeled.csv', index=False)\n",
    "#DelamDataHighFailure_shuffeled.to_csv('Z:\\\\HMS\\Fehlerdatenbasis\\\\EEC_Parameter_Programm\\\\Train_Data\\\\Failure_data_Delam_high_imag_shuffeled.csv', index=False)\n",
    "\n",
    "\n",
    "\n"
   ]
  },
  {
   "cell_type": "code",
   "execution_count": 4,
   "metadata": {},
   "outputs": [],
   "source": [
    "##lable data \n",
    "#Delamination\n",
    "DelamDataNoFailure_labeled = DelamDataNoFailure_shuffeled.copy()\n",
    "DelamDataNoFailure_labeled['Label'] = 'DelamNoFailure'  # Label for no failure\n",
    "DelamDataLowFailure_labeled = DelamDataLowFailure_shuffeled.copy()\n",
    "DelamDataLowFailure_labeled['Label'] = 'DelamLowFailure'  # Label for low failure\n",
    "DelamDataHighFailure_labeled = DelamDataHighFailure_shuffeled.copy()\n",
    "DelamDataHighFailure_labeled['Label'] = 'DelamHighFailure'  # Label for high failure\n",
    "\n",
    "#RedThickness\n",
    "#RedThicknessDataNoFailure_labeled = RedThicknessDataNoFailure_shuffeled.copy()\n",
    "#RedThicknessDataNoFailure_labeled['Label'] = 'RedThicknessNoFailure'  # Label for no failure # --> commented out since RedThicknessNoFailure == DelamNoFailure\n",
    "RedThicknessDataLowFailure_labeled = RedThicknessDataLowFailure_shuffeled.copy()\n",
    "RedThicknessDataLowFailure_labeled['Label'] = 'RedThicknessLowFailure'  # Label for low failure\n",
    "RedThicknessDataHighFailure_labeled = RedThicknessDataHighFailure_shuffeled.copy()\n",
    "RedThicknessDataHighFailure_labeled['Label'] = 'RedThicknessHighFailure'  # Label for high failure\n",
    "\n",
    "#combine all data into one dataframe and shuffle it again\n",
    "combined_data_Delam = pd.concat([DelamDataNoFailure_labeled, DelamDataLowFailure_labeled, DelamDataHighFailure_labeled], ignore_index=True)\n",
    "combined_data_RedThickness = pd.concat([ RedThicknessDataLowFailure_labeled, RedThicknessDataHighFailure_labeled], ignore_index=True)\n",
    "combined_data = pd.concat([combined_data_Delam, combined_data_RedThickness], ignore_index=True)  # Combine all data into one dataframe\n",
    "combined_data = shuffle(combined_data, random_state=42)  # Shuffle the combined data\n",
    "#print(combined_data)\n",
    "#save combined data to csv file for examination\n",
    "#combined_data.to_csv('Z:\\\\HMS\\Fehlerdatenbasis\\\\EEC_Parameter_Programm\\\\Train_Data\\\\Train_Imag_Data_combined.csv', index=False)"
   ]
  },
  {
   "cell_type": "code",
   "execution_count": 5,
   "metadata": {},
   "outputs": [
    {
     "name": "stdout",
     "output_type": "stream",
     "text": [
      "(476212, 37) (476212,)\n",
      "37\n",
      "Number of NaN values in y_train: 0\n"
     ]
    }
   ],
   "source": [
    "#define test and train data for NN classification \n",
    "train_set, test_set = train_test_split(combined_data, test_size=0.2, random_state=42)  # 80% training, 20% testing\n",
    "#print(train_set)\n",
    "X_train = train_set.iloc[:,3:-1]\n",
    "y_train = train_set['Label'].map({'DelamNoFailure': 0, 'DelamLowFailure': 1, 'DelamHighFailure': 2, 'RedThicknessLowFailure': 3, 'RedThicknessHighFailure': 4})  # Map labels to integers to use numerical values\n",
    "print(X_train.shape, y_train.shape)\n",
    "print(train_set.shape[1] - 4)\n",
    "\n",
    "\n",
    "#find nan values in y_train (NaN values cause the NN to crash)\n",
    "nan_count = y_train.isna().sum()\n",
    "print(f\"Number of NaN values in y_train: {nan_count}\") "
   ]
  },
  {
   "cell_type": "code",
   "execution_count": 6,
   "metadata": {},
   "outputs": [],
   "source": [
    "#create Neural Network (defined in a function to prepare it for grid search)\n",
    "tf.random.set_seed(42)  # Set random seed for reproducibility\n",
    "def create_model(optimizer='sgd', activation='relu', hidden_layers=1, n_neuron=20):\n",
    "    model = tf.keras.Sequential()\n",
    "    model.add(tf.keras.layers.InputLayer(input_shape=(train_set.shape[1] - 4,)))  # Adjust input shape\n",
    "    for _ in range(hidden_layers):\n",
    "        model.add(tf.keras.layers.Dense(n_neuron, activation=activation))\n",
    "    model.add(tf.keras.layers.Dense(5, activation='softmax')) # five output neurons with indiced of 0-4 for the five classes\n",
    "    model.compile(optimizer=optimizer, loss='sparse_categorical_crossentropy', metrics=['accuracy'])\n",
    "    return model"
   ]
  },
  {
   "cell_type": "code",
   "execution_count": 12,
   "metadata": {},
   "outputs": [
    {
     "name": "stdout",
     "output_type": "stream",
     "text": [
      "Starting grid search...\n",
      "Fitting 3 folds for each of 2 candidates, totalling 6 fits\n"
     ]
    },
    {
     "ename": "KeyboardInterrupt",
     "evalue": "",
     "output_type": "error",
     "traceback": [
      "\u001b[1;31m---------------------------------------------------------------------------\u001b[0m",
      "\u001b[1;31mKeyboardInterrupt\u001b[0m                         Traceback (most recent call last)",
      "Cell \u001b[1;32mIn[12], line 30\u001b[0m\n\u001b[0;32m     28\u001b[0m start_time \u001b[38;5;241m=\u001b[39m time\u001b[38;5;241m.\u001b[39mtime()\n\u001b[0;32m     29\u001b[0m \u001b[38;5;28mprint\u001b[39m(\u001b[38;5;124m\"\u001b[39m\u001b[38;5;124mStarting grid search...\u001b[39m\u001b[38;5;124m\"\u001b[39m)\n\u001b[1;32m---> 30\u001b[0m \u001b[43mgrid_search\u001b[49m\u001b[38;5;241;43m.\u001b[39;49m\u001b[43mfit\u001b[49m\u001b[43m(\u001b[49m\n\u001b[0;32m     31\u001b[0m \u001b[43m    \u001b[49m\u001b[43mX_train\u001b[49m\u001b[43m,\u001b[49m\n\u001b[0;32m     32\u001b[0m \u001b[43m    \u001b[49m\u001b[43my_train\u001b[49m\u001b[43m,\u001b[49m\n\u001b[0;32m     33\u001b[0m \u001b[43m)\u001b[49m\n\u001b[0;32m     34\u001b[0m \u001b[38;5;28mprint\u001b[39m(\u001b[38;5;124m\"\u001b[39m\u001b[38;5;124mGrid search completed in \u001b[39m\u001b[38;5;132;01m{:.2f}\u001b[39;00m\u001b[38;5;124m seconds.\u001b[39m\u001b[38;5;124m\"\u001b[39m\u001b[38;5;241m.\u001b[39mformat(time\u001b[38;5;241m.\u001b[39mtime() \u001b[38;5;241m-\u001b[39m start_time))\n",
      "File \u001b[1;32mc:\\my_ml_projects\\my_env\\Lib\\site-packages\\sklearn\\base.py:1474\u001b[0m, in \u001b[0;36m_fit_context.<locals>.decorator.<locals>.wrapper\u001b[1;34m(estimator, *args, **kwargs)\u001b[0m\n\u001b[0;32m   1467\u001b[0m     estimator\u001b[38;5;241m.\u001b[39m_validate_params()\n\u001b[0;32m   1469\u001b[0m \u001b[38;5;28;01mwith\u001b[39;00m config_context(\n\u001b[0;32m   1470\u001b[0m     skip_parameter_validation\u001b[38;5;241m=\u001b[39m(\n\u001b[0;32m   1471\u001b[0m         prefer_skip_nested_validation \u001b[38;5;129;01mor\u001b[39;00m global_skip_validation\n\u001b[0;32m   1472\u001b[0m     )\n\u001b[0;32m   1473\u001b[0m ):\n\u001b[1;32m-> 1474\u001b[0m     \u001b[38;5;28;01mreturn\u001b[39;00m \u001b[43mfit_method\u001b[49m\u001b[43m(\u001b[49m\u001b[43mestimator\u001b[49m\u001b[43m,\u001b[49m\u001b[43m \u001b[49m\u001b[38;5;241;43m*\u001b[39;49m\u001b[43margs\u001b[49m\u001b[43m,\u001b[49m\u001b[43m \u001b[49m\u001b[38;5;241;43m*\u001b[39;49m\u001b[38;5;241;43m*\u001b[39;49m\u001b[43mkwargs\u001b[49m\u001b[43m)\u001b[49m\n",
      "File \u001b[1;32mc:\\my_ml_projects\\my_env\\Lib\\site-packages\\sklearn\\model_selection\\_search.py:970\u001b[0m, in \u001b[0;36mBaseSearchCV.fit\u001b[1;34m(self, X, y, **params)\u001b[0m\n\u001b[0;32m    964\u001b[0m     results \u001b[38;5;241m=\u001b[39m \u001b[38;5;28mself\u001b[39m\u001b[38;5;241m.\u001b[39m_format_results(\n\u001b[0;32m    965\u001b[0m         all_candidate_params, n_splits, all_out, all_more_results\n\u001b[0;32m    966\u001b[0m     )\n\u001b[0;32m    968\u001b[0m     \u001b[38;5;28;01mreturn\u001b[39;00m results\n\u001b[1;32m--> 970\u001b[0m \u001b[38;5;28;43mself\u001b[39;49m\u001b[38;5;241;43m.\u001b[39;49m\u001b[43m_run_search\u001b[49m\u001b[43m(\u001b[49m\u001b[43mevaluate_candidates\u001b[49m\u001b[43m)\u001b[49m\n\u001b[0;32m    972\u001b[0m \u001b[38;5;66;03m# multimetric is determined here because in the case of a callable\u001b[39;00m\n\u001b[0;32m    973\u001b[0m \u001b[38;5;66;03m# self.scoring the return type is only known after calling\u001b[39;00m\n\u001b[0;32m    974\u001b[0m first_test_score \u001b[38;5;241m=\u001b[39m all_out[\u001b[38;5;241m0\u001b[39m][\u001b[38;5;124m\"\u001b[39m\u001b[38;5;124mtest_scores\u001b[39m\u001b[38;5;124m\"\u001b[39m]\n",
      "File \u001b[1;32mc:\\my_ml_projects\\my_env\\Lib\\site-packages\\sklearn\\model_selection\\_search.py:1527\u001b[0m, in \u001b[0;36mGridSearchCV._run_search\u001b[1;34m(self, evaluate_candidates)\u001b[0m\n\u001b[0;32m   1525\u001b[0m \u001b[38;5;28;01mdef\u001b[39;00m \u001b[38;5;21m_run_search\u001b[39m(\u001b[38;5;28mself\u001b[39m, evaluate_candidates):\n\u001b[0;32m   1526\u001b[0m \u001b[38;5;250m    \u001b[39m\u001b[38;5;124;03m\"\"\"Search all candidates in param_grid\"\"\"\u001b[39;00m\n\u001b[1;32m-> 1527\u001b[0m     \u001b[43mevaluate_candidates\u001b[49m\u001b[43m(\u001b[49m\u001b[43mParameterGrid\u001b[49m\u001b[43m(\u001b[49m\u001b[38;5;28;43mself\u001b[39;49m\u001b[38;5;241;43m.\u001b[39;49m\u001b[43mparam_grid\u001b[49m\u001b[43m)\u001b[49m\u001b[43m)\u001b[49m\n",
      "File \u001b[1;32mc:\\my_ml_projects\\my_env\\Lib\\site-packages\\sklearn\\model_selection\\_search.py:916\u001b[0m, in \u001b[0;36mBaseSearchCV.fit.<locals>.evaluate_candidates\u001b[1;34m(candidate_params, cv, more_results)\u001b[0m\n\u001b[0;32m    908\u001b[0m \u001b[38;5;28;01mif\u001b[39;00m \u001b[38;5;28mself\u001b[39m\u001b[38;5;241m.\u001b[39mverbose \u001b[38;5;241m>\u001b[39m \u001b[38;5;241m0\u001b[39m:\n\u001b[0;32m    909\u001b[0m     \u001b[38;5;28mprint\u001b[39m(\n\u001b[0;32m    910\u001b[0m         \u001b[38;5;124m\"\u001b[39m\u001b[38;5;124mFitting \u001b[39m\u001b[38;5;132;01m{0}\u001b[39;00m\u001b[38;5;124m folds for each of \u001b[39m\u001b[38;5;132;01m{1}\u001b[39;00m\u001b[38;5;124m candidates,\u001b[39m\u001b[38;5;124m\"\u001b[39m\n\u001b[0;32m    911\u001b[0m         \u001b[38;5;124m\"\u001b[39m\u001b[38;5;124m totalling \u001b[39m\u001b[38;5;132;01m{2}\u001b[39;00m\u001b[38;5;124m fits\u001b[39m\u001b[38;5;124m\"\u001b[39m\u001b[38;5;241m.\u001b[39mformat(\n\u001b[0;32m    912\u001b[0m             n_splits, n_candidates, n_candidates \u001b[38;5;241m*\u001b[39m n_splits\n\u001b[0;32m    913\u001b[0m         )\n\u001b[0;32m    914\u001b[0m     )\n\u001b[1;32m--> 916\u001b[0m out \u001b[38;5;241m=\u001b[39m \u001b[43mparallel\u001b[49m\u001b[43m(\u001b[49m\n\u001b[0;32m    917\u001b[0m \u001b[43m    \u001b[49m\u001b[43mdelayed\u001b[49m\u001b[43m(\u001b[49m\u001b[43m_fit_and_score\u001b[49m\u001b[43m)\u001b[49m\u001b[43m(\u001b[49m\n\u001b[0;32m    918\u001b[0m \u001b[43m        \u001b[49m\u001b[43mclone\u001b[49m\u001b[43m(\u001b[49m\u001b[43mbase_estimator\u001b[49m\u001b[43m)\u001b[49m\u001b[43m,\u001b[49m\n\u001b[0;32m    919\u001b[0m \u001b[43m        \u001b[49m\u001b[43mX\u001b[49m\u001b[43m,\u001b[49m\n\u001b[0;32m    920\u001b[0m \u001b[43m        \u001b[49m\u001b[43my\u001b[49m\u001b[43m,\u001b[49m\n\u001b[0;32m    921\u001b[0m \u001b[43m        \u001b[49m\u001b[43mtrain\u001b[49m\u001b[38;5;241;43m=\u001b[39;49m\u001b[43mtrain\u001b[49m\u001b[43m,\u001b[49m\n\u001b[0;32m    922\u001b[0m \u001b[43m        \u001b[49m\u001b[43mtest\u001b[49m\u001b[38;5;241;43m=\u001b[39;49m\u001b[43mtest\u001b[49m\u001b[43m,\u001b[49m\n\u001b[0;32m    923\u001b[0m \u001b[43m        \u001b[49m\u001b[43mparameters\u001b[49m\u001b[38;5;241;43m=\u001b[39;49m\u001b[43mparameters\u001b[49m\u001b[43m,\u001b[49m\n\u001b[0;32m    924\u001b[0m \u001b[43m        \u001b[49m\u001b[43msplit_progress\u001b[49m\u001b[38;5;241;43m=\u001b[39;49m\u001b[43m(\u001b[49m\u001b[43msplit_idx\u001b[49m\u001b[43m,\u001b[49m\u001b[43m \u001b[49m\u001b[43mn_splits\u001b[49m\u001b[43m)\u001b[49m\u001b[43m,\u001b[49m\n\u001b[0;32m    925\u001b[0m \u001b[43m        \u001b[49m\u001b[43mcandidate_progress\u001b[49m\u001b[38;5;241;43m=\u001b[39;49m\u001b[43m(\u001b[49m\u001b[43mcand_idx\u001b[49m\u001b[43m,\u001b[49m\u001b[43m \u001b[49m\u001b[43mn_candidates\u001b[49m\u001b[43m)\u001b[49m\u001b[43m,\u001b[49m\n\u001b[0;32m    926\u001b[0m \u001b[43m        \u001b[49m\u001b[38;5;241;43m*\u001b[39;49m\u001b[38;5;241;43m*\u001b[39;49m\u001b[43mfit_and_score_kwargs\u001b[49m\u001b[43m,\u001b[49m\n\u001b[0;32m    927\u001b[0m \u001b[43m    \u001b[49m\u001b[43m)\u001b[49m\n\u001b[0;32m    928\u001b[0m \u001b[43m    \u001b[49m\u001b[38;5;28;43;01mfor\u001b[39;49;00m\u001b[43m \u001b[49m\u001b[43m(\u001b[49m\u001b[43mcand_idx\u001b[49m\u001b[43m,\u001b[49m\u001b[43m \u001b[49m\u001b[43mparameters\u001b[49m\u001b[43m)\u001b[49m\u001b[43m,\u001b[49m\u001b[43m \u001b[49m\u001b[43m(\u001b[49m\u001b[43msplit_idx\u001b[49m\u001b[43m,\u001b[49m\u001b[43m \u001b[49m\u001b[43m(\u001b[49m\u001b[43mtrain\u001b[49m\u001b[43m,\u001b[49m\u001b[43m \u001b[49m\u001b[43mtest\u001b[49m\u001b[43m)\u001b[49m\u001b[43m)\u001b[49m\u001b[43m \u001b[49m\u001b[38;5;129;43;01min\u001b[39;49;00m\u001b[43m \u001b[49m\u001b[43mproduct\u001b[49m\u001b[43m(\u001b[49m\n\u001b[0;32m    929\u001b[0m \u001b[43m        \u001b[49m\u001b[38;5;28;43menumerate\u001b[39;49m\u001b[43m(\u001b[49m\u001b[43mcandidate_params\u001b[49m\u001b[43m)\u001b[49m\u001b[43m,\u001b[49m\n\u001b[0;32m    930\u001b[0m \u001b[43m        \u001b[49m\u001b[38;5;28;43menumerate\u001b[39;49m\u001b[43m(\u001b[49m\u001b[43mcv\u001b[49m\u001b[38;5;241;43m.\u001b[39;49m\u001b[43msplit\u001b[49m\u001b[43m(\u001b[49m\u001b[43mX\u001b[49m\u001b[43m,\u001b[49m\u001b[43m \u001b[49m\u001b[43my\u001b[49m\u001b[43m,\u001b[49m\u001b[43m \u001b[49m\u001b[38;5;241;43m*\u001b[39;49m\u001b[38;5;241;43m*\u001b[39;49m\u001b[43mrouted_params\u001b[49m\u001b[38;5;241;43m.\u001b[39;49m\u001b[43msplitter\u001b[49m\u001b[38;5;241;43m.\u001b[39;49m\u001b[43msplit\u001b[49m\u001b[43m)\u001b[49m\u001b[43m)\u001b[49m\u001b[43m,\u001b[49m\n\u001b[0;32m    931\u001b[0m \u001b[43m    \u001b[49m\u001b[43m)\u001b[49m\n\u001b[0;32m    932\u001b[0m \u001b[43m\u001b[49m\u001b[43m)\u001b[49m\n\u001b[0;32m    934\u001b[0m \u001b[38;5;28;01mif\u001b[39;00m \u001b[38;5;28mlen\u001b[39m(out) \u001b[38;5;241m<\u001b[39m \u001b[38;5;241m1\u001b[39m:\n\u001b[0;32m    935\u001b[0m     \u001b[38;5;28;01mraise\u001b[39;00m \u001b[38;5;167;01mValueError\u001b[39;00m(\n\u001b[0;32m    936\u001b[0m         \u001b[38;5;124m\"\u001b[39m\u001b[38;5;124mNo fits were performed. \u001b[39m\u001b[38;5;124m\"\u001b[39m\n\u001b[0;32m    937\u001b[0m         \u001b[38;5;124m\"\u001b[39m\u001b[38;5;124mWas the CV iterator empty? \u001b[39m\u001b[38;5;124m\"\u001b[39m\n\u001b[0;32m    938\u001b[0m         \u001b[38;5;124m\"\u001b[39m\u001b[38;5;124mWere there no candidates?\u001b[39m\u001b[38;5;124m\"\u001b[39m\n\u001b[0;32m    939\u001b[0m     )\n",
      "File \u001b[1;32mc:\\my_ml_projects\\my_env\\Lib\\site-packages\\sklearn\\utils\\parallel.py:67\u001b[0m, in \u001b[0;36mParallel.__call__\u001b[1;34m(self, iterable)\u001b[0m\n\u001b[0;32m     62\u001b[0m config \u001b[38;5;241m=\u001b[39m get_config()\n\u001b[0;32m     63\u001b[0m iterable_with_config \u001b[38;5;241m=\u001b[39m (\n\u001b[0;32m     64\u001b[0m     (_with_config(delayed_func, config), args, kwargs)\n\u001b[0;32m     65\u001b[0m     \u001b[38;5;28;01mfor\u001b[39;00m delayed_func, args, kwargs \u001b[38;5;129;01min\u001b[39;00m iterable\n\u001b[0;32m     66\u001b[0m )\n\u001b[1;32m---> 67\u001b[0m \u001b[38;5;28;01mreturn\u001b[39;00m \u001b[38;5;28;43msuper\u001b[39;49m\u001b[43m(\u001b[49m\u001b[43m)\u001b[49m\u001b[38;5;241;43m.\u001b[39;49m\u001b[38;5;21;43m__call__\u001b[39;49m\u001b[43m(\u001b[49m\u001b[43miterable_with_config\u001b[49m\u001b[43m)\u001b[49m\n",
      "File \u001b[1;32mc:\\my_ml_projects\\my_env\\Lib\\site-packages\\joblib\\parallel.py:2007\u001b[0m, in \u001b[0;36mParallel.__call__\u001b[1;34m(self, iterable)\u001b[0m\n\u001b[0;32m   2001\u001b[0m \u001b[38;5;66;03m# The first item from the output is blank, but it makes the interpreter\u001b[39;00m\n\u001b[0;32m   2002\u001b[0m \u001b[38;5;66;03m# progress until it enters the Try/Except block of the generator and\u001b[39;00m\n\u001b[0;32m   2003\u001b[0m \u001b[38;5;66;03m# reaches the first `yield` statement. This starts the asynchronous\u001b[39;00m\n\u001b[0;32m   2004\u001b[0m \u001b[38;5;66;03m# dispatch of the tasks to the workers.\u001b[39;00m\n\u001b[0;32m   2005\u001b[0m \u001b[38;5;28mnext\u001b[39m(output)\n\u001b[1;32m-> 2007\u001b[0m \u001b[38;5;28;01mreturn\u001b[39;00m output \u001b[38;5;28;01mif\u001b[39;00m \u001b[38;5;28mself\u001b[39m\u001b[38;5;241m.\u001b[39mreturn_generator \u001b[38;5;28;01melse\u001b[39;00m \u001b[38;5;28;43mlist\u001b[39;49m\u001b[43m(\u001b[49m\u001b[43moutput\u001b[49m\u001b[43m)\u001b[49m\n",
      "File \u001b[1;32mc:\\my_ml_projects\\my_env\\Lib\\site-packages\\joblib\\parallel.py:1650\u001b[0m, in \u001b[0;36mParallel._get_outputs\u001b[1;34m(self, iterator, pre_dispatch)\u001b[0m\n\u001b[0;32m   1647\u001b[0m     \u001b[38;5;28;01myield\u001b[39;00m\n\u001b[0;32m   1649\u001b[0m     \u001b[38;5;28;01mwith\u001b[39;00m \u001b[38;5;28mself\u001b[39m\u001b[38;5;241m.\u001b[39m_backend\u001b[38;5;241m.\u001b[39mretrieval_context():\n\u001b[1;32m-> 1650\u001b[0m         \u001b[38;5;28;01myield from\u001b[39;00m \u001b[38;5;28mself\u001b[39m\u001b[38;5;241m.\u001b[39m_retrieve()\n\u001b[0;32m   1652\u001b[0m \u001b[38;5;28;01mexcept\u001b[39;00m \u001b[38;5;167;01mGeneratorExit\u001b[39;00m:\n\u001b[0;32m   1653\u001b[0m     \u001b[38;5;66;03m# The generator has been garbage collected before being fully\u001b[39;00m\n\u001b[0;32m   1654\u001b[0m     \u001b[38;5;66;03m# consumed. This aborts the remaining tasks if possible and warn\u001b[39;00m\n\u001b[0;32m   1655\u001b[0m     \u001b[38;5;66;03m# the user if necessary.\u001b[39;00m\n\u001b[0;32m   1656\u001b[0m     \u001b[38;5;28mself\u001b[39m\u001b[38;5;241m.\u001b[39m_exception \u001b[38;5;241m=\u001b[39m \u001b[38;5;28;01mTrue\u001b[39;00m\n",
      "File \u001b[1;32mc:\\my_ml_projects\\my_env\\Lib\\site-packages\\joblib\\parallel.py:1762\u001b[0m, in \u001b[0;36mParallel._retrieve\u001b[1;34m(self)\u001b[0m\n\u001b[0;32m   1757\u001b[0m \u001b[38;5;66;03m# If the next job is not ready for retrieval yet, we just wait for\u001b[39;00m\n\u001b[0;32m   1758\u001b[0m \u001b[38;5;66;03m# async callbacks to progress.\u001b[39;00m\n\u001b[0;32m   1759\u001b[0m \u001b[38;5;28;01mif\u001b[39;00m ((\u001b[38;5;28mlen\u001b[39m(\u001b[38;5;28mself\u001b[39m\u001b[38;5;241m.\u001b[39m_jobs) \u001b[38;5;241m==\u001b[39m \u001b[38;5;241m0\u001b[39m) \u001b[38;5;129;01mor\u001b[39;00m\n\u001b[0;32m   1760\u001b[0m     (\u001b[38;5;28mself\u001b[39m\u001b[38;5;241m.\u001b[39m_jobs[\u001b[38;5;241m0\u001b[39m]\u001b[38;5;241m.\u001b[39mget_status(\n\u001b[0;32m   1761\u001b[0m         timeout\u001b[38;5;241m=\u001b[39m\u001b[38;5;28mself\u001b[39m\u001b[38;5;241m.\u001b[39mtimeout) \u001b[38;5;241m==\u001b[39m TASK_PENDING)):\n\u001b[1;32m-> 1762\u001b[0m     \u001b[43mtime\u001b[49m\u001b[38;5;241;43m.\u001b[39;49m\u001b[43msleep\u001b[49m\u001b[43m(\u001b[49m\u001b[38;5;241;43m0.01\u001b[39;49m\u001b[43m)\u001b[49m\n\u001b[0;32m   1763\u001b[0m     \u001b[38;5;28;01mcontinue\u001b[39;00m\n\u001b[0;32m   1765\u001b[0m \u001b[38;5;66;03m# We need to be careful: the job list can be filling up as\u001b[39;00m\n\u001b[0;32m   1766\u001b[0m \u001b[38;5;66;03m# we empty it and Python list are not thread-safe by\u001b[39;00m\n\u001b[0;32m   1767\u001b[0m \u001b[38;5;66;03m# default hence the use of the lock\u001b[39;00m\n",
      "\u001b[1;31mKeyboardInterrupt\u001b[0m: "
     ]
    }
   ],
   "source": [
    "#set up Grid search\n",
    "param_grid = {\n",
    "    'model__optimizer': ['sgd'],  # Optimizer\n",
    "    'model__activation': ['relu'],  # Activation function\n",
    "    'model__hidden_layers': [3,4],  # Number of hidden layers\n",
    "    'model__n_neuron': [300],  # Number of neurons per layer\n",
    "    'epochs': [100],  # Number of epochs\n",
    "    \n",
    "}\n",
    "\n",
    "model = KerasClassifier(\n",
    "    model=create_model,\n",
    "    batch_size=40,  # Fixed batch size\n",
    "    verbose=1  # Enable progress bar for each epoch\n",
    ")\n",
    "\n",
    "# Create the GridSearchCV object\n",
    "grid_search = GridSearchCV(\n",
    "    estimator=model,\n",
    "    param_grid=param_grid,\n",
    "    cv=3,\n",
    "    verbose=2,  # Show progress for each fold\n",
    "    n_jobs = -1  # Use all available cores\n",
    ")\n",
    "\n",
    "# Fit the grid search to the training data\n",
    "# Fit the grid search to the training data\n",
    "start_time = time.time()\n",
    "print(\"Starting grid search...\")\n",
    "grid_search.fit(\n",
    "    X_train,\n",
    "    y_train,\n",
    ")\n",
    "print(\"Grid search completed in {:.2f} seconds.\".format(time.time() - start_time))"
   ]
  },
  {
   "cell_type": "code",
   "execution_count": 9,
   "metadata": {},
   "outputs": [
    {
     "name": "stdout",
     "output_type": "stream",
     "text": [
      "Grid search results saved to CSV file.\n"
     ]
    }
   ],
   "source": [
    "#export results to csv file \n",
    "results_df = pd.DataFrame(grid_search.cv_results_)\n",
    "results_df.to_csv('Z:\\\\HMS\\\\Fehlerdatenbasis\\\\EEC_Parameter_Programm\\\\Train_Data\\\\grid_search_results.csv', index=False)\n",
    "print(\"Grid search results saved to CSV file.\")"
   ]
  }
 ],
 "metadata": {
  "kernelspec": {
   "display_name": "my_env",
   "language": "python",
   "name": "python3"
  },
  "language_info": {
   "codemirror_mode": {
    "name": "ipython",
    "version": 3
   },
   "file_extension": ".py",
   "mimetype": "text/x-python",
   "name": "python",
   "nbconvert_exporter": "python",
   "pygments_lexer": "ipython3",
   "version": "3.12.3"
  }
 },
 "nbformat": 4,
 "nbformat_minor": 4
}
